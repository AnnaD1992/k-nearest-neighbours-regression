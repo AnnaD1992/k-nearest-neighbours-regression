{
 "cells": [
  {
   "cell_type": "code",
   "execution_count": 1,
   "metadata": {},
   "outputs": [],
   "source": [
    "import pandas as pd\n",
    "import numpy as np\n",
    "import matplotlib.pyplot as plt"
   ]
  },
  {
   "cell_type": "code",
   "execution_count": 2,
   "metadata": {},
   "outputs": [
    {
     "data": {
      "text/html": [
       "<div>\n",
       "<style scoped>\n",
       "    .dataframe tbody tr th:only-of-type {\n",
       "        vertical-align: middle;\n",
       "    }\n",
       "\n",
       "    .dataframe tbody tr th {\n",
       "        vertical-align: top;\n",
       "    }\n",
       "\n",
       "    .dataframe thead th {\n",
       "        text-align: right;\n",
       "    }\n",
       "</style>\n",
       "<table border=\"1\" class=\"dataframe\">\n",
       "  <thead>\n",
       "    <tr style=\"text-align: right;\">\n",
       "      <th></th>\n",
       "      <th>age</th>\n",
       "      <th>sex</th>\n",
       "      <th>bmi</th>\n",
       "      <th>children</th>\n",
       "      <th>smoker</th>\n",
       "      <th>region</th>\n",
       "      <th>charges</th>\n",
       "    </tr>\n",
       "  </thead>\n",
       "  <tbody>\n",
       "    <tr>\n",
       "      <th>0</th>\n",
       "      <td>19</td>\n",
       "      <td>female</td>\n",
       "      <td>27.900</td>\n",
       "      <td>0</td>\n",
       "      <td>yes</td>\n",
       "      <td>southwest</td>\n",
       "      <td>16884.92400</td>\n",
       "    </tr>\n",
       "    <tr>\n",
       "      <th>1</th>\n",
       "      <td>18</td>\n",
       "      <td>male</td>\n",
       "      <td>33.770</td>\n",
       "      <td>1</td>\n",
       "      <td>no</td>\n",
       "      <td>southeast</td>\n",
       "      <td>1725.55230</td>\n",
       "    </tr>\n",
       "    <tr>\n",
       "      <th>2</th>\n",
       "      <td>28</td>\n",
       "      <td>male</td>\n",
       "      <td>33.000</td>\n",
       "      <td>3</td>\n",
       "      <td>no</td>\n",
       "      <td>southeast</td>\n",
       "      <td>4449.46200</td>\n",
       "    </tr>\n",
       "    <tr>\n",
       "      <th>3</th>\n",
       "      <td>33</td>\n",
       "      <td>male</td>\n",
       "      <td>22.705</td>\n",
       "      <td>0</td>\n",
       "      <td>no</td>\n",
       "      <td>northwest</td>\n",
       "      <td>21984.47061</td>\n",
       "    </tr>\n",
       "    <tr>\n",
       "      <th>4</th>\n",
       "      <td>32</td>\n",
       "      <td>male</td>\n",
       "      <td>28.880</td>\n",
       "      <td>0</td>\n",
       "      <td>no</td>\n",
       "      <td>northwest</td>\n",
       "      <td>3866.85520</td>\n",
       "    </tr>\n",
       "    <tr>\n",
       "      <th>...</th>\n",
       "      <td>...</td>\n",
       "      <td>...</td>\n",
       "      <td>...</td>\n",
       "      <td>...</td>\n",
       "      <td>...</td>\n",
       "      <td>...</td>\n",
       "      <td>...</td>\n",
       "    </tr>\n",
       "    <tr>\n",
       "      <th>1333</th>\n",
       "      <td>50</td>\n",
       "      <td>male</td>\n",
       "      <td>30.970</td>\n",
       "      <td>3</td>\n",
       "      <td>no</td>\n",
       "      <td>northwest</td>\n",
       "      <td>10600.54830</td>\n",
       "    </tr>\n",
       "    <tr>\n",
       "      <th>1334</th>\n",
       "      <td>18</td>\n",
       "      <td>female</td>\n",
       "      <td>31.920</td>\n",
       "      <td>0</td>\n",
       "      <td>no</td>\n",
       "      <td>northeast</td>\n",
       "      <td>2205.98080</td>\n",
       "    </tr>\n",
       "    <tr>\n",
       "      <th>1335</th>\n",
       "      <td>18</td>\n",
       "      <td>female</td>\n",
       "      <td>36.850</td>\n",
       "      <td>0</td>\n",
       "      <td>no</td>\n",
       "      <td>southeast</td>\n",
       "      <td>1629.83350</td>\n",
       "    </tr>\n",
       "    <tr>\n",
       "      <th>1336</th>\n",
       "      <td>21</td>\n",
       "      <td>female</td>\n",
       "      <td>25.800</td>\n",
       "      <td>0</td>\n",
       "      <td>no</td>\n",
       "      <td>southwest</td>\n",
       "      <td>2007.94500</td>\n",
       "    </tr>\n",
       "    <tr>\n",
       "      <th>1337</th>\n",
       "      <td>61</td>\n",
       "      <td>female</td>\n",
       "      <td>29.070</td>\n",
       "      <td>0</td>\n",
       "      <td>yes</td>\n",
       "      <td>northwest</td>\n",
       "      <td>29141.36030</td>\n",
       "    </tr>\n",
       "  </tbody>\n",
       "</table>\n",
       "<p>1338 rows × 7 columns</p>\n",
       "</div>"
      ],
      "text/plain": [
       "      age     sex     bmi  children smoker     region      charges\n",
       "0      19  female  27.900         0    yes  southwest  16884.92400\n",
       "1      18    male  33.770         1     no  southeast   1725.55230\n",
       "2      28    male  33.000         3     no  southeast   4449.46200\n",
       "3      33    male  22.705         0     no  northwest  21984.47061\n",
       "4      32    male  28.880         0     no  northwest   3866.85520\n",
       "...   ...     ...     ...       ...    ...        ...          ...\n",
       "1333   50    male  30.970         3     no  northwest  10600.54830\n",
       "1334   18  female  31.920         0     no  northeast   2205.98080\n",
       "1335   18  female  36.850         0     no  southeast   1629.83350\n",
       "1336   21  female  25.800         0     no  southwest   2007.94500\n",
       "1337   61  female  29.070         0    yes  northwest  29141.36030\n",
       "\n",
       "[1338 rows x 7 columns]"
      ]
     },
     "execution_count": 2,
     "metadata": {},
     "output_type": "execute_result"
    }
   ],
   "source": [
    "dataset=pd.read_csv(\"insurance.csv\")\n",
    "dataset"
   ]
  },
  {
   "cell_type": "code",
   "execution_count": 3,
   "metadata": {},
   "outputs": [],
   "source": [
    "data=dataset[[\"age\",\"bmi\",\"charges\"]]"
   ]
  },
  {
   "cell_type": "code",
   "execution_count": 4,
   "metadata": {},
   "outputs": [
    {
     "name": "stderr",
     "output_type": "stream",
     "text": [
      "<ipython-input-4-20cf8a735f22>:1: SettingWithCopyWarning: \n",
      "A value is trying to be set on a copy of a slice from a DataFrame.\n",
      "Try using .loc[row_indexer,col_indexer] = value instead\n",
      "\n",
      "See the caveats in the documentation: https://pandas.pydata.org/pandas-docs/stable/user_guide/indexing.html#returning-a-view-versus-a-copy\n",
      "  data[\"bmi\"]=data[\"bmi\"].astype(int)\n",
      "<ipython-input-4-20cf8a735f22>:2: SettingWithCopyWarning: \n",
      "A value is trying to be set on a copy of a slice from a DataFrame.\n",
      "Try using .loc[row_indexer,col_indexer] = value instead\n",
      "\n",
      "See the caveats in the documentation: https://pandas.pydata.org/pandas-docs/stable/user_guide/indexing.html#returning-a-view-versus-a-copy\n",
      "  data[\"charges\"]=data[\"charges\"].astype(int)\n"
     ]
    }
   ],
   "source": [
    "data[\"bmi\"]=data[\"bmi\"].astype(int)\n",
    "data[\"charges\"]=data[\"charges\"].astype(int)"
   ]
  },
  {
   "cell_type": "code",
   "execution_count": 5,
   "metadata": {},
   "outputs": [
    {
     "data": {
      "text/plain": [
       "age        int64\n",
       "bmi        int64\n",
       "charges    int64\n",
       "dtype: object"
      ]
     },
     "execution_count": 5,
     "metadata": {},
     "output_type": "execute_result"
    }
   ],
   "source": [
    "data.dtypes"
   ]
  },
  {
   "cell_type": "code",
   "execution_count": 6,
   "metadata": {},
   "outputs": [],
   "source": [
    "x=data.iloc[:,:-1].values\n",
    "y=data.iloc[:,-1].values"
   ]
  },
  {
   "cell_type": "markdown",
   "metadata": {},
   "source": [
    "## Splitting the dataset into the Training set and Test set"
   ]
  },
  {
   "cell_type": "code",
   "execution_count": 7,
   "metadata": {},
   "outputs": [],
   "source": [
    "from sklearn.model_selection import train_test_split\n",
    "x_train, x_test,y_train,y_test = train_test_split(x,y, test_size=0.20, random_state=0)"
   ]
  },
  {
   "cell_type": "markdown",
   "metadata": {},
   "source": [
    "## Feature Scaling"
   ]
  },
  {
   "cell_type": "code",
   "execution_count": 17,
   "metadata": {},
   "outputs": [],
   "source": [
    "from sklearn.preprocessing import StandardScaler\n",
    "sc=StandardScaler()\n",
    "x_train=sc.fit_transform(x_train)\n",
    "x_test=sc.transform(x_test)"
   ]
  },
  {
   "cell_type": "code",
   "execution_count": null,
   "metadata": {},
   "outputs": [],
   "source": []
  },
  {
   "cell_type": "markdown",
   "metadata": {},
   "source": [
    "## Training the K-NN model on the Training set"
   ]
  },
  {
   "cell_type": "code",
   "execution_count": 9,
   "metadata": {},
   "outputs": [
    {
     "data": {
      "text/plain": [
       "KNeighborsClassifier()"
      ]
     },
     "execution_count": 9,
     "metadata": {},
     "output_type": "execute_result"
    }
   ],
   "source": [
    "from sklearn.neighbors import KNeighborsClassifier\n",
    "classifier=KNeighborsClassifier(n_neighbors=5, metric=\"minkowski\", p=2)\n",
    "\n",
    "classifier.fit(x_train, y_train)"
   ]
  },
  {
   "cell_type": "markdown",
   "metadata": {},
   "source": [
    "## Predicting a new result"
   ]
  },
  {
   "cell_type": "code",
   "execution_count": 10,
   "metadata": {},
   "outputs": [
    {
     "data": {
      "text/plain": [
       "array([3171])"
      ]
     },
     "execution_count": 10,
     "metadata": {},
     "output_type": "execute_result"
    }
   ],
   "source": [
    "classifier.predict(sc.transform([[28,33]]))"
   ]
  },
  {
   "cell_type": "markdown",
   "metadata": {},
   "source": [
    "## Predicting the Test set results"
   ]
  },
  {
   "cell_type": "code",
   "execution_count": 11,
   "metadata": {},
   "outputs": [],
   "source": [
    "y_pred=classifier.predict(x_test)"
   ]
  },
  {
   "cell_type": "code",
   "execution_count": 18,
   "metadata": {},
   "outputs": [
    {
     "data": {
      "text/plain": [
       "array([[ 9377,  9724],\n",
       "       [ 7789,  8547],\n",
       "       [ 7804, 45702],\n",
       "       [12648, 12950],\n",
       "       [ 7526,  9644],\n",
       "       [ 4134,  4500],\n",
       "       [ 1615,  2198],\n",
       "       [ 8457, 11436],\n",
       "       [ 4646,  7537],\n",
       "       [ 3659,  5425],\n",
       "       [ 3260,  6753],\n",
       "       [ 8442, 10493],\n",
       "       [ 6849,  7337],\n",
       "       [ 5125,  4185],\n",
       "       [ 3213, 18310],\n",
       "       [ 8703, 10702],\n",
       "       [12142, 12523],\n",
       "       [ 2497,  3490],\n",
       "       [ 5028,  6457],\n",
       "       [ 1639, 33475],\n",
       "       [ 9863, 23967],\n",
       "       [10976, 12643],\n",
       "       [ 9377, 23045],\n",
       "       [ 8026, 23065],\n",
       "       [ 1391,  1674],\n",
       "       [ 4673,  4667],\n",
       "       [ 2680,  3732],\n",
       "       [ 5699,  7682],\n",
       "       [ 3353,  3756],\n",
       "       [ 8520,  8413],\n",
       "       [ 5974,  8059],\n",
       "       [10982, 48970],\n",
       "       [12981, 12979],\n",
       "       [10226, 20630],\n",
       "       [ 2302, 14571],\n",
       "       [ 2866,  4137],\n",
       "       [ 7152,  8347],\n",
       "       [ 3277, 51194],\n",
       "       [ 6571, 40003],\n",
       "       [ 1391,  1880],\n",
       "       [ 5855,  5458],\n",
       "       [ 2866,  2867],\n",
       "       [ 5415, 20149],\n",
       "       [11363, 47496],\n",
       "       [ 1727, 36149],\n",
       "       [ 1748, 26018],\n",
       "       [ 8601, 19749],\n",
       "       [ 5969,  6940],\n",
       "       [ 4134,  4718],\n",
       "       [10959, 22192],\n",
       "       [ 1826,  2899],\n",
       "       [ 1252, 18838],\n",
       "       [ 8233, 23568],\n",
       "       [ 8798, 46255],\n",
       "       [10982, 24227],\n",
       "       [ 3366,  3268],\n",
       "       [ 2416,  2322],\n",
       "       [ 8442,  8827],\n",
       "       [ 7045, 14478],\n",
       "       [12142, 13112],\n",
       "       [ 1842,  1253],\n",
       "       [12638, 46718],\n",
       "       [13143, 13919],\n",
       "       [ 8835,  9630],\n",
       "       [ 8124, 10736],\n",
       "       [ 9875,  9880],\n",
       "       [ 1639, 32548],\n",
       "       [ 4670, 38746],\n",
       "       [ 2103,  3180],\n",
       "       [ 6393,  8162],\n",
       "       [12129, 13041],\n",
       "       [10965, 11554],\n",
       "       [ 1967, 16232],\n",
       "       [13887, 13887],\n",
       "       [12142, 13012],\n",
       "       [12222, 13217],\n",
       "       [ 7222,  7147],\n",
       "       [ 6849,  7731],\n",
       "       [ 4883, 20296],\n",
       "       [12741, 47403],\n",
       "       [10965, 11658],\n",
       "       [ 6356, 45863],\n",
       "       [ 1981,  2055],\n",
       "       [ 8520,  7441],\n",
       "       [ 5979, 41034],\n",
       "       [ 4571, 18972],\n",
       "       [ 1837,  3410],\n",
       "       [ 3956,  2699],\n",
       "       [12129, 12333],\n",
       "       [ 3366, 36837],\n",
       "       [ 4673,  6334],\n",
       "       [ 9487, 10214],\n",
       "       [ 1837, 17878],\n",
       "       [ 8026,  8515],\n",
       "       [ 3935,  4518],\n",
       "       [ 3659,  5148],\n",
       "       [10231, 42303],\n",
       "       [ 6849, 38998],\n",
       "       [ 4149,  5327],\n",
       "       [10601, 10602],\n",
       "       [ 1981,  1824],\n",
       "       [ 5012,  5377],\n",
       "       [ 3171,  4349],\n",
       "       [ 5584, 37742],\n",
       "       [ 6770, 32787],\n",
       "       [ 3176,  3353],\n",
       "       [10791, 10577],\n",
       "       [ 3171,  3556],\n",
       "       [10594, 11944],\n",
       "       [12430, 52590],\n",
       "       [10065, 12475],\n",
       "       [ 3693,  4266],\n",
       "       [ 8233,  9249],\n",
       "       [ 1621, 33732],\n",
       "       [ 9504, 48675],\n",
       "       [ 5969,  7729],\n",
       "       [ 1628,  1964],\n",
       "       [ 8442,  8444],\n",
       "       [12648, 12347],\n",
       "       [ 9095,  9301],\n",
       "       [ 7160, 42124],\n",
       "       [ 8627,  9991],\n",
       "       [13470, 14319],\n",
       "       [ 3277,  5428],\n",
       "       [ 7421,  7626],\n",
       "       [ 3260,  4906],\n",
       "       [ 7742, 23401],\n",
       "       [ 7222, 21098],\n",
       "       [13470, 48173],\n",
       "       [ 1534,  1917],\n",
       "       [ 7050,  8219],\n",
       "       [ 1135,  1725],\n",
       "       [ 4646,  5976],\n",
       "       [ 8688,  9361],\n",
       "       [ 6849, 22144],\n",
       "       [ 3704, 35491],\n",
       "       [ 5966, 19515],\n",
       "       [10156, 10107],\n",
       "       [10065, 23244],\n",
       "       [ 2104,  2789],\n",
       "       [ 1877,  2261],\n",
       "       [10796, 10594],\n",
       "       [ 8798,  9304],\n",
       "       [10601, 10435],\n",
       "       [ 4571,  4894],\n",
       "       [13822, 14313],\n",
       "       [11363, 28287],\n",
       "       [ 1515, 14426],\n",
       "       [ 1702,  1627],\n",
       "       [11165, 25517],\n",
       "       [ 5469,  6555],\n",
       "       [ 1837, 39611],\n",
       "       [ 8835,  9964],\n",
       "       [ 2203,  1720],\n",
       "       [ 1633,  2730],\n",
       "       [ 5910,  6500],\n",
       "       [ 1909,  2643],\n",
       "       [ 1744,  1719],\n",
       "       [ 8703, 11085],\n",
       "       [ 8283, 10115],\n",
       "       [ 2497,  4846],\n",
       "       [13470, 12982],\n",
       "       [11931, 28923],\n",
       "       [ 9875,  9391],\n",
       "       [ 3260,  4544],\n",
       "       [ 2473, 17128],\n",
       "       [ 1702, 13844],\n",
       "       [ 3704,  6113],\n",
       "       [ 3736,  4441],\n",
       "       [ 1631,  1633],\n",
       "       [ 3171,  4058],\n",
       "       [ 3070,  4435],\n",
       "       [ 6849,  8310],\n",
       "       [ 1826,  1986],\n",
       "       [ 2494,  4260],\n",
       "       [ 2473,  4504],\n",
       "       [ 3176,  4428],\n",
       "       [ 6272,  6117],\n",
       "       [11842, 30184],\n",
       "       [ 1615,  1708],\n",
       "       [ 9174, 11187],\n",
       "       [ 4646,  6796],\n",
       "       [10594, 11356],\n",
       "       [ 3171,  2498],\n",
       "       [ 4992, 27375],\n",
       "       [14256, 28101],\n",
       "       [ 1909,  2254],\n",
       "       [ 1664,  2597],\n",
       "       [13555, 14692],\n",
       "       [ 8283, 10370],\n",
       "       [ 8964, 41097],\n",
       "       [ 3392,  3981],\n",
       "       [ 4883,  5472],\n",
       "       [ 8534, 21223],\n",
       "       [ 1826,  2534],\n",
       "       [ 2045,  1972],\n",
       "       [ 4399,  6406],\n",
       "       [ 4889,  6551],\n",
       "       [ 3277,  4058],\n",
       "       [ 3866,  4243],\n",
       "       [10601, 11512],\n",
       "       [13393, 46889],\n",
       "       [10601, 12268],\n",
       "       [ 3353, 19199],\n",
       "       [ 3659,  4433],\n",
       "       [ 8068, 42969],\n",
       "       [ 2396, 23241],\n",
       "       [ 9283,  9140],\n",
       "       [ 4320,  5836],\n",
       "       [ 1146,  1149],\n",
       "       [ 8062,  8765],\n",
       "       [12557, 14043],\n",
       "       [ 3070,  5312],\n",
       "       [ 2473, 10795],\n",
       "       [ 6770,  6282],\n",
       "       [ 2352,  1969],\n",
       "       [ 4746,  6746],\n",
       "       [ 4719,  5354],\n",
       "       [12129, 14001],\n",
       "       [ 4766,  6877],\n",
       "       [ 4762,  6196],\n",
       "       [ 6686,  7986],\n",
       "       [ 8233,  8277],\n",
       "       [ 2352,  3206],\n",
       "       [10976, 11848],\n",
       "       [13887, 14210],\n",
       "       [10226, 12265],\n",
       "       [11165, 11837],\n",
       "       [ 6272,  6652],\n",
       "       [ 2721,  2137],\n",
       "       [ 2203,  1131],\n",
       "       [ 6948,  8342],\n",
       "       [11362, 12244],\n",
       "       [ 1621,  4561],\n",
       "       [ 4931, 17626],\n",
       "       [ 6571,  6875],\n",
       "       [ 8601,  9447],\n",
       "       [ 4234, 34254],\n",
       "       [ 5484,  6067],\n",
       "       [ 9863, 11729],\n",
       "       [ 5469,  5383],\n",
       "       [ 1532, 37465],\n",
       "       [ 5920,  7371],\n",
       "       [ 7045,  7325],\n",
       "       [ 6849,  8410],\n",
       "       [ 9625, 10461],\n",
       "       [ 2007,  3279],\n",
       "       [ 5979,  7727],\n",
       "       [ 1515,  2731],\n",
       "       [ 6250,  6858],\n",
       "       [ 4040, 19521],\n",
       "       [13555, 47305],\n",
       "       [ 3021,  3987],\n",
       "       [ 1837,  3238],\n",
       "       [ 1744,  7323],\n",
       "       [ 1628,  1704],\n",
       "       [ 8334,  7445],\n",
       "       [ 1727,  1629],\n",
       "       [ 2721,  4877],\n",
       "       [ 2483,  3561],\n",
       "       [ 7222,  8605],\n",
       "       [ 8601, 24520],\n",
       "       [13555, 45710],\n",
       "       [12638, 15019],\n",
       "       [ 6770,  6664],\n",
       "       [10601, 20709],\n",
       "       [ 3471, 40932],\n",
       "       [ 8534,  9500]])"
      ]
     },
     "execution_count": 18,
     "metadata": {},
     "output_type": "execute_result"
    }
   ],
   "source": [
    "np.concatenate((y_pred.reshape(len(y_pred),1), y_test.reshape(len(y_test),1)),1)"
   ]
  },
  {
   "cell_type": "markdown",
   "metadata": {},
   "source": [
    "## Making the Confusion Matrix\n"
   ]
  },
  {
   "cell_type": "code",
   "execution_count": 19,
   "metadata": {},
   "outputs": [
    {
     "data": {
      "text/plain": [
       "array([[0, 0, 0, ..., 0, 0, 0],\n",
       "       [0, 0, 0, ..., 0, 0, 0],\n",
       "       [0, 0, 0, ..., 0, 0, 0],\n",
       "       ...,\n",
       "       [0, 0, 0, ..., 0, 0, 0],\n",
       "       [0, 0, 0, ..., 0, 0, 0],\n",
       "       [0, 0, 0, ..., 0, 0, 0]])"
      ]
     },
     "execution_count": 19,
     "metadata": {},
     "output_type": "execute_result"
    }
   ],
   "source": [
    "from sklearn.metrics import confusion_matrix,accuracy_score\n",
    "cm = confusion_matrix(y_test, y_pred)\n",
    "cm"
   ]
  },
  {
   "cell_type": "code",
   "execution_count": 20,
   "metadata": {},
   "outputs": [
    {
     "data": {
      "text/plain": [
       "0.0037313432835820895"
      ]
     },
     "execution_count": 20,
     "metadata": {},
     "output_type": "execute_result"
    }
   ],
   "source": [
    "accuracy_score(y_test,y_pred)"
   ]
  },
  {
   "cell_type": "markdown",
   "metadata": {},
   "source": []
  },
  {
   "cell_type": "code",
   "execution_count": null,
   "metadata": {},
   "outputs": [],
   "source": []
  },
  {
   "cell_type": "code",
   "execution_count": null,
   "metadata": {},
   "outputs": [],
   "source": []
  }
 ],
 "metadata": {
  "kernelspec": {
   "display_name": "Python 3",
   "language": "python",
   "name": "python3"
  },
  "language_info": {
   "codemirror_mode": {
    "name": "ipython",
    "version": 3
   },
   "file_extension": ".py",
   "mimetype": "text/x-python",
   "name": "python",
   "nbconvert_exporter": "python",
   "pygments_lexer": "ipython3",
   "version": "3.8.5"
  }
 },
 "nbformat": 4,
 "nbformat_minor": 4
}
